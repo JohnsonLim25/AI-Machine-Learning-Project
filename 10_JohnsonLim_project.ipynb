{
 "cells": [
  {
   "cell_type": "markdown",
   "id": "637563ac-bf91-47ce-94ea-28d3308d0086",
   "metadata": {},
   "source": [
    "# AIM Project - Bank Personal Loan "
   ]
  },
  {
   "cell_type": "markdown",
   "id": "dbd1a09e-16cb-4056-a6dc-f6bbcc1283ce",
   "metadata": {},
   "source": [
    "## Step 1 : Import Necessary Libraries"
   ]
  },
  {
   "cell_type": "code",
   "execution_count": 1,
   "id": "547ad2cf-fb9d-4ea0-9fbd-5ff70dcf6f28",
   "metadata": {
    "tags": []
   },
   "outputs": [],
   "source": [
    "# Import necessary Libraries\n",
    "import pandas as pd # import pandas library as pd variable to read the csv file\n",
    "import numpy  as np # import numpy library as np variable , for nan value manipulation\n",
    "import matplotlib.pyplot as plt # import matplotlib.pyplot library as plt variable, for graph plotting of labels\n",
    "import seaborn as sns # import seaborn as sns variable, for plotting colour-encoded Confusion Matrix\n",
    "\n",
    "#Import sklearn useful libraries \n",
    "from sklearn.tree import DecisionTreeClassifier #import DecisionTreeClassifier module from sklearn.tree library as th 1st machine learning algorithm\n",
    "from sklearn.neighbors import KNeighborsClassifier #import KNeighborsClassifier module from sklearn.neighbors library as the 2nd machine learning algorithm\n",
    "from sklearn.model_selection import train_test_split as tts # import train_test_split module from sklearn.model_selection for splitting the test and train data into different categories\n",
    "\n",
    "#Import sklearn metrics - evaluation and confusion_matrix\n",
    "from sklearn.metrics import recall_score #import recall_score module from sklearn.metrics library for manipulating the recall score metric by calculating and displaying the results from calculation\n",
    "# I use recall score to find out the correctly identified positive cases which finds out if this customer is a Personal Loan customer or a liability customer \n",
    "\n",
    "from sklearn.metrics import precision_score#import precision_score module from sklearn.metrics library for manipulating the precision score metric by calculating and displaying the results from calculation\n",
    "# I use precision score to find out whether a customer is more likely to become a Personal Loan customer or not\n",
    "\n",
    "from sklearn.metrics import confusion_matrix #import confusion_matrix module from sklearn.metrics library to display the results of the Reality results against the Prediction results"
   ]
  },
  {
   "cell_type": "markdown",
   "id": "1fe9aa9d-255c-4311-9af6-aef83613f275",
   "metadata": {},
   "source": [
    "## Step 2 - Load CSV and create dataframe"
   ]
  },
  {
   "cell_type": "code",
   "execution_count": 2,
   "id": "06de68ff-0686-49d9-9b93-84642ad3f229",
   "metadata": {
    "tags": []
   },
   "outputs": [
    {
     "data": {
      "text/html": [
       "<div>\n",
       "<style scoped>\n",
       "    .dataframe tbody tr th:only-of-type {\n",
       "        vertical-align: middle;\n",
       "    }\n",
       "\n",
       "    .dataframe tbody tr th {\n",
       "        vertical-align: top;\n",
       "    }\n",
       "\n",
       "    .dataframe thead th {\n",
       "        text-align: right;\n",
       "    }\n",
       "</style>\n",
       "<table border=\"1\" class=\"dataframe\">\n",
       "  <thead>\n",
       "    <tr style=\"text-align: right;\">\n",
       "      <th></th>\n",
       "      <th>ID</th>\n",
       "      <th>Age</th>\n",
       "      <th>Experience</th>\n",
       "      <th>Income</th>\n",
       "      <th>ZIP Code</th>\n",
       "      <th>Family</th>\n",
       "      <th>CCAvg</th>\n",
       "      <th>Education</th>\n",
       "      <th>Mortgage</th>\n",
       "      <th>Personal Loan</th>\n",
       "      <th>Securities Account</th>\n",
       "      <th>CD Account</th>\n",
       "      <th>Online</th>\n",
       "      <th>CreditCard</th>\n",
       "    </tr>\n",
       "  </thead>\n",
       "  <tbody>\n",
       "    <tr>\n",
       "      <th>0</th>\n",
       "      <td>1</td>\n",
       "      <td>25</td>\n",
       "      <td>1</td>\n",
       "      <td>49</td>\n",
       "      <td>91107</td>\n",
       "      <td>4</td>\n",
       "      <td>1.6</td>\n",
       "      <td>Undergrad</td>\n",
       "      <td>0</td>\n",
       "      <td>0</td>\n",
       "      <td>Yes</td>\n",
       "      <td>No</td>\n",
       "      <td>No</td>\n",
       "      <td>No</td>\n",
       "    </tr>\n",
       "    <tr>\n",
       "      <th>1</th>\n",
       "      <td>2</td>\n",
       "      <td>45</td>\n",
       "      <td>19</td>\n",
       "      <td>34</td>\n",
       "      <td>90089</td>\n",
       "      <td>3</td>\n",
       "      <td>1.5</td>\n",
       "      <td>Undergrad</td>\n",
       "      <td>0</td>\n",
       "      <td>0</td>\n",
       "      <td>Yes</td>\n",
       "      <td>No</td>\n",
       "      <td>No</td>\n",
       "      <td>No</td>\n",
       "    </tr>\n",
       "    <tr>\n",
       "      <th>2</th>\n",
       "      <td>3</td>\n",
       "      <td>39</td>\n",
       "      <td>15</td>\n",
       "      <td>11</td>\n",
       "      <td>94720</td>\n",
       "      <td>1</td>\n",
       "      <td>1.0</td>\n",
       "      <td>Undergrad</td>\n",
       "      <td>0</td>\n",
       "      <td>0</td>\n",
       "      <td>No</td>\n",
       "      <td>No</td>\n",
       "      <td>No</td>\n",
       "      <td>No</td>\n",
       "    </tr>\n",
       "    <tr>\n",
       "      <th>3</th>\n",
       "      <td>4</td>\n",
       "      <td>35</td>\n",
       "      <td>9</td>\n",
       "      <td>100</td>\n",
       "      <td>94112</td>\n",
       "      <td>1</td>\n",
       "      <td>2.7</td>\n",
       "      <td>Graduate</td>\n",
       "      <td>0</td>\n",
       "      <td>0</td>\n",
       "      <td>No</td>\n",
       "      <td>No</td>\n",
       "      <td>No</td>\n",
       "      <td>No</td>\n",
       "    </tr>\n",
       "    <tr>\n",
       "      <th>4</th>\n",
       "      <td>5</td>\n",
       "      <td>35</td>\n",
       "      <td>8</td>\n",
       "      <td>45</td>\n",
       "      <td>91330</td>\n",
       "      <td>4</td>\n",
       "      <td>1.0</td>\n",
       "      <td>Graduate</td>\n",
       "      <td>0</td>\n",
       "      <td>0</td>\n",
       "      <td>No</td>\n",
       "      <td>No</td>\n",
       "      <td>No</td>\n",
       "      <td>Yes</td>\n",
       "    </tr>\n",
       "  </tbody>\n",
       "</table>\n",
       "</div>"
      ],
      "text/plain": [
       "   ID  Age  Experience  Income  ZIP Code Family  CCAvg  Education  Mortgage   \n",
       "0   1   25           1      49     91107      4    1.6  Undergrad         0  \\\n",
       "1   2   45          19      34     90089      3    1.5  Undergrad         0   \n",
       "2   3   39          15      11     94720      1    1.0  Undergrad         0   \n",
       "3   4   35           9     100     94112      1    2.7   Graduate         0   \n",
       "4   5   35           8      45     91330      4    1.0   Graduate         0   \n",
       "\n",
       "   Personal Loan Securities Account CD Account Online CreditCard  \n",
       "0              0                Yes         No     No         No  \n",
       "1              0                Yes         No     No         No  \n",
       "2              0                 No         No     No         No  \n",
       "3              0                 No         No     No         No  \n",
       "4              0                 No         No     No        Yes  "
      ]
     },
     "execution_count": 2,
     "metadata": {},
     "output_type": "execute_result"
    }
   ],
   "source": [
    "df = pd.read_csv('Bank_Personal_Loan_Modelling.csv') # read the Bank_Personal_Loan_Modelling.csv file using pd.read_csv()\n",
    "df.head() # display the first 5 records using df.head()"
   ]
  },
  {
   "cell_type": "markdown",
   "id": "b84768cb-cc04-40e4-8fb2-f38551b002b2",
   "metadata": {},
   "source": [
    "## Step 3 - Check if dataframe is valid"
   ]
  },
  {
   "cell_type": "code",
   "execution_count": 3,
   "id": "e6298647-b977-4254-9bf4-07274c7d8a8d",
   "metadata": {
    "tags": []
   },
   "outputs": [
    {
     "data": {
      "text/html": [
       "<div>\n",
       "<style scoped>\n",
       "    .dataframe tbody tr th:only-of-type {\n",
       "        vertical-align: middle;\n",
       "    }\n",
       "\n",
       "    .dataframe tbody tr th {\n",
       "        vertical-align: top;\n",
       "    }\n",
       "\n",
       "    .dataframe thead th {\n",
       "        text-align: right;\n",
       "    }\n",
       "</style>\n",
       "<table border=\"1\" class=\"dataframe\">\n",
       "  <thead>\n",
       "    <tr style=\"text-align: right;\">\n",
       "      <th></th>\n",
       "      <th>ID</th>\n",
       "      <th>Age</th>\n",
       "      <th>Experience</th>\n",
       "      <th>Income</th>\n",
       "      <th>ZIP Code</th>\n",
       "      <th>Family</th>\n",
       "      <th>CCAvg</th>\n",
       "      <th>Education</th>\n",
       "      <th>Mortgage</th>\n",
       "      <th>Personal Loan</th>\n",
       "      <th>Securities Account</th>\n",
       "      <th>CD Account</th>\n",
       "      <th>Online</th>\n",
       "      <th>CreditCard</th>\n",
       "    </tr>\n",
       "  </thead>\n",
       "  <tbody>\n",
       "    <tr>\n",
       "      <th>0</th>\n",
       "      <td>1</td>\n",
       "      <td>25</td>\n",
       "      <td>1</td>\n",
       "      <td>49</td>\n",
       "      <td>91107</td>\n",
       "      <td>4</td>\n",
       "      <td>1.6</td>\n",
       "      <td>Undergrad</td>\n",
       "      <td>0</td>\n",
       "      <td>0</td>\n",
       "      <td>Yes</td>\n",
       "      <td>No</td>\n",
       "      <td>No</td>\n",
       "      <td>No</td>\n",
       "    </tr>\n",
       "    <tr>\n",
       "      <th>1</th>\n",
       "      <td>2</td>\n",
       "      <td>45</td>\n",
       "      <td>19</td>\n",
       "      <td>34</td>\n",
       "      <td>90089</td>\n",
       "      <td>3</td>\n",
       "      <td>1.5</td>\n",
       "      <td>Undergrad</td>\n",
       "      <td>0</td>\n",
       "      <td>0</td>\n",
       "      <td>Yes</td>\n",
       "      <td>No</td>\n",
       "      <td>No</td>\n",
       "      <td>No</td>\n",
       "    </tr>\n",
       "    <tr>\n",
       "      <th>2</th>\n",
       "      <td>3</td>\n",
       "      <td>39</td>\n",
       "      <td>15</td>\n",
       "      <td>11</td>\n",
       "      <td>94720</td>\n",
       "      <td>1</td>\n",
       "      <td>1.0</td>\n",
       "      <td>Undergrad</td>\n",
       "      <td>0</td>\n",
       "      <td>0</td>\n",
       "      <td>No</td>\n",
       "      <td>No</td>\n",
       "      <td>No</td>\n",
       "      <td>No</td>\n",
       "    </tr>\n",
       "    <tr>\n",
       "      <th>3</th>\n",
       "      <td>4</td>\n",
       "      <td>35</td>\n",
       "      <td>9</td>\n",
       "      <td>100</td>\n",
       "      <td>94112</td>\n",
       "      <td>1</td>\n",
       "      <td>2.7</td>\n",
       "      <td>Graduate</td>\n",
       "      <td>0</td>\n",
       "      <td>0</td>\n",
       "      <td>No</td>\n",
       "      <td>No</td>\n",
       "      <td>No</td>\n",
       "      <td>No</td>\n",
       "    </tr>\n",
       "    <tr>\n",
       "      <th>4</th>\n",
       "      <td>5</td>\n",
       "      <td>35</td>\n",
       "      <td>8</td>\n",
       "      <td>45</td>\n",
       "      <td>91330</td>\n",
       "      <td>4</td>\n",
       "      <td>1.0</td>\n",
       "      <td>Graduate</td>\n",
       "      <td>0</td>\n",
       "      <td>0</td>\n",
       "      <td>No</td>\n",
       "      <td>No</td>\n",
       "      <td>No</td>\n",
       "      <td>Yes</td>\n",
       "    </tr>\n",
       "  </tbody>\n",
       "</table>\n",
       "</div>"
      ],
      "text/plain": [
       "   ID  Age  Experience  Income  ZIP Code Family  CCAvg  Education  Mortgage   \n",
       "0   1   25           1      49     91107      4    1.6  Undergrad         0  \\\n",
       "1   2   45          19      34     90089      3    1.5  Undergrad         0   \n",
       "2   3   39          15      11     94720      1    1.0  Undergrad         0   \n",
       "3   4   35           9     100     94112      1    2.7   Graduate         0   \n",
       "4   5   35           8      45     91330      4    1.0   Graduate         0   \n",
       "\n",
       "   Personal Loan Securities Account CD Account Online CreditCard  \n",
       "0              0                Yes         No     No         No  \n",
       "1              0                Yes         No     No         No  \n",
       "2              0                 No         No     No         No  \n",
       "3              0                 No         No     No         No  \n",
       "4              0                 No         No     No        Yes  "
      ]
     },
     "execution_count": 3,
     "metadata": {},
     "output_type": "execute_result"
    }
   ],
   "source": [
    "df.head() #Check if dataframe has valid data - rows and columns"
   ]
  },
  {
   "cell_type": "markdown",
   "id": "e8fea418-5b20-4ed9-b9f0-966a0e533f30",
   "metadata": {},
   "source": [
    "## Step 4 - Examining and Preparing Your Data "
   ]
  },
  {
   "cell_type": "markdown",
   "id": "26cb4636-b527-43cf-802b-79d6cb5354ef",
   "metadata": {},
   "source": [
    "### Step 4.1 Identify the Features and Target/label"
   ]
  },
  {
   "cell_type": "markdown",
   "id": "ac691392-52e4-4065-afb2-89052c4b77e4",
   "metadata": {
    "tags": []
   },
   "source": [
    "From the Bank_Personal_Loan.csv\n",
    "\n",
    "|Col No.|Variable|Definition|Key|My Observation|\n",
    "|---|---|---|---|---|\n",
    "|1.|ID|Unique Identifier|int|Not Useful|\n",
    "|2.|Age|Age (years)|int|Feature - ok|\n",
    "|3.|Experience|Years of Professional Experience|int|Feature - ok|\n",
    "|4.|Income|Customer’s Annual income (000) |int|Feature - ok|\n",
    "|5.|ZIP Code|Home Address ZIP code|int|Not Useful|\n",
    "|6.|Family|Customer's Family Size|int|Feature - ok|\n",
    "|7.|CCAvg|Avg. Credit Card Spending Per Month(000)|float|Feature - ok|\n",
    "|8.|Education|Education level| category data (Undergrad, Graduate, Advanced/Professional)|Feature - Need Cleaning| \n",
    "|9.|Mortgage|Value of house mortgage if any ($000)|int|Feature - ok|\n",
    "|10.|Personal Loan|Did customer accept personal loan offered?|int(0 = no, 1 = yes)|Target|\n",
    "|11.|Securities Account|Does customer have a securities account with the bank? |category code(No, Yes)|Feature - Need Cleaning|\n",
    "|12.|CD Account|Does customer have a certificate of deposit (CD) account with the bank?|category code(No, Yes)|Feature - Need Cleaning|\n",
    "|13.|Online|Does customer use internet banking facilities?|category code(No, Yes)|Feature - Need Cleaning|\n",
    "|14.|CreditCard|Does customer use a credit card issued by this Bank?|category code(No, Yes)| Feature - Need Cleaning|"
   ]
  },
  {
   "cell_type": "markdown",
   "id": "b1015a92-0300-44ce-a789-be56847fc4fc",
   "metadata": {},
   "source": [
    "## Step 4.2 Drop all unecessary columns"
   ]
  },
  {
   "cell_type": "markdown",
   "id": "65cd8f19-672f-4462-9f5b-7b8838f71eea",
   "metadata": {},
   "source": [
    "The identified columns that are not helpful for modelling:\n",
    "1) ID - This is a unique identifier number assigned to each customer.\n",
    "2) ZIP Code - This column gives us unique Home Address ZIP codes,  which is not useful as the column cannot be used to interpret the likelyhood of buying a personal loan."
   ]
  },
  {
   "cell_type": "code",
   "execution_count": 4,
   "id": "4e3fed55-98a5-4bef-9015-ab9849042020",
   "metadata": {
    "tags": []
   },
   "outputs": [
    {
     "data": {
      "text/html": [
       "<div>\n",
       "<style scoped>\n",
       "    .dataframe tbody tr th:only-of-type {\n",
       "        vertical-align: middle;\n",
       "    }\n",
       "\n",
       "    .dataframe tbody tr th {\n",
       "        vertical-align: top;\n",
       "    }\n",
       "\n",
       "    .dataframe thead th {\n",
       "        text-align: right;\n",
       "    }\n",
       "</style>\n",
       "<table border=\"1\" class=\"dataframe\">\n",
       "  <thead>\n",
       "    <tr style=\"text-align: right;\">\n",
       "      <th></th>\n",
       "      <th>Age</th>\n",
       "      <th>Experience</th>\n",
       "      <th>Income</th>\n",
       "      <th>Family</th>\n",
       "      <th>CCAvg</th>\n",
       "      <th>Education</th>\n",
       "      <th>Mortgage</th>\n",
       "      <th>Personal Loan</th>\n",
       "      <th>Securities Account</th>\n",
       "      <th>CD Account</th>\n",
       "      <th>Online</th>\n",
       "      <th>CreditCard</th>\n",
       "    </tr>\n",
       "  </thead>\n",
       "  <tbody>\n",
       "    <tr>\n",
       "      <th>0</th>\n",
       "      <td>25</td>\n",
       "      <td>1</td>\n",
       "      <td>49</td>\n",
       "      <td>4</td>\n",
       "      <td>1.6</td>\n",
       "      <td>Undergrad</td>\n",
       "      <td>0</td>\n",
       "      <td>0</td>\n",
       "      <td>Yes</td>\n",
       "      <td>No</td>\n",
       "      <td>No</td>\n",
       "      <td>No</td>\n",
       "    </tr>\n",
       "    <tr>\n",
       "      <th>1</th>\n",
       "      <td>45</td>\n",
       "      <td>19</td>\n",
       "      <td>34</td>\n",
       "      <td>3</td>\n",
       "      <td>1.5</td>\n",
       "      <td>Undergrad</td>\n",
       "      <td>0</td>\n",
       "      <td>0</td>\n",
       "      <td>Yes</td>\n",
       "      <td>No</td>\n",
       "      <td>No</td>\n",
       "      <td>No</td>\n",
       "    </tr>\n",
       "    <tr>\n",
       "      <th>2</th>\n",
       "      <td>39</td>\n",
       "      <td>15</td>\n",
       "      <td>11</td>\n",
       "      <td>1</td>\n",
       "      <td>1.0</td>\n",
       "      <td>Undergrad</td>\n",
       "      <td>0</td>\n",
       "      <td>0</td>\n",
       "      <td>No</td>\n",
       "      <td>No</td>\n",
       "      <td>No</td>\n",
       "      <td>No</td>\n",
       "    </tr>\n",
       "    <tr>\n",
       "      <th>3</th>\n",
       "      <td>35</td>\n",
       "      <td>9</td>\n",
       "      <td>100</td>\n",
       "      <td>1</td>\n",
       "      <td>2.7</td>\n",
       "      <td>Graduate</td>\n",
       "      <td>0</td>\n",
       "      <td>0</td>\n",
       "      <td>No</td>\n",
       "      <td>No</td>\n",
       "      <td>No</td>\n",
       "      <td>No</td>\n",
       "    </tr>\n",
       "    <tr>\n",
       "      <th>4</th>\n",
       "      <td>35</td>\n",
       "      <td>8</td>\n",
       "      <td>45</td>\n",
       "      <td>4</td>\n",
       "      <td>1.0</td>\n",
       "      <td>Graduate</td>\n",
       "      <td>0</td>\n",
       "      <td>0</td>\n",
       "      <td>No</td>\n",
       "      <td>No</td>\n",
       "      <td>No</td>\n",
       "      <td>Yes</td>\n",
       "    </tr>\n",
       "  </tbody>\n",
       "</table>\n",
       "</div>"
      ],
      "text/plain": [
       "   Age  Experience  Income Family  CCAvg  Education  Mortgage  Personal Loan   \n",
       "0   25           1      49      4    1.6  Undergrad         0              0  \\\n",
       "1   45          19      34      3    1.5  Undergrad         0              0   \n",
       "2   39          15      11      1    1.0  Undergrad         0              0   \n",
       "3   35           9     100      1    2.7   Graduate         0              0   \n",
       "4   35           8      45      4    1.0   Graduate         0              0   \n",
       "\n",
       "  Securities Account CD Account Online CreditCard  \n",
       "0                Yes         No     No         No  \n",
       "1                Yes         No     No         No  \n",
       "2                 No         No     No         No  \n",
       "3                 No         No     No         No  \n",
       "4                 No         No     No        Yes  "
      ]
     },
     "execution_count": 4,
     "metadata": {},
     "output_type": "execute_result"
    }
   ],
   "source": [
    "df.drop([\"ID\", \"ZIP Code\"], axis = 1, inplace = True), # Dropping the irrelevant columns which provide data that does not help in predicting the target\n",
    "df.head() # Display the first 5 records from all columns in the dataset"
   ]
  },
  {
   "cell_type": "markdown",
   "id": "6e694098-773e-4799-964f-1abdc3ae0677",
   "metadata": {},
   "source": [
    "## Step 4.3 : Convert following data types from dataset\n",
    "\n",
    "1) Invalid Data\n",
    "2) Null values\n",
    "3) Unknown values"
   ]
  },
  {
   "cell_type": "code",
   "execution_count": 5,
   "id": "100fa3a4-4052-4031-b411-01b051498963",
   "metadata": {
    "tags": []
   },
   "outputs": [
    {
     "data": {
      "text/plain": [
       "Age                     int64\n",
       "Experience              int64\n",
       "Income                  int64\n",
       "Family                 object\n",
       "CCAvg                 float64\n",
       "Education              object\n",
       "Mortgage                int64\n",
       "Personal Loan           int64\n",
       "Securities Account     object\n",
       "CD Account             object\n",
       "Online                 object\n",
       "CreditCard             object\n",
       "dtype: object"
      ]
     },
     "execution_count": 5,
     "metadata": {},
     "output_type": "execute_result"
    }
   ],
   "source": [
    "#Check the data types of each column\n",
    "df.dtypes"
   ]
  },
  {
   "cell_type": "markdown",
   "id": "6ebd4c15-3ac4-43c6-b6ff-30a70fc1fda6",
   "metadata": {},
   "source": [
    "#### Invalid Data - Non-numeric values"
   ]
  },
  {
   "cell_type": "markdown",
   "id": "df5aa344-286c-41ef-aeff-d9b36a42b7c8",
   "metadata": {},
   "source": [
    "##### Notice that 6 columns which are 'Education', 'Securities Account', 'CD Account', 'Online', 'CreditCard', 'Family'  are objects that have categorical data. \n",
    "\n",
    "Therefore we need to creating different mappings based on their categorical data."
   ]
  },
  {
   "cell_type": "code",
   "execution_count": 6,
   "id": "9e04c325-15d7-49a5-9125-d962c16ad050",
   "metadata": {
    "tags": []
   },
   "outputs": [
    {
     "data": {
      "text/plain": [
       "0       1\n",
       "1       1\n",
       "2       1\n",
       "3       2\n",
       "4       2\n",
       "       ..\n",
       "5995    2\n",
       "5996    3\n",
       "5997    1\n",
       "5998    3\n",
       "5999    3\n",
       "Name: Education, Length: 6000, dtype: int64"
      ]
     },
     "execution_count": 6,
     "metadata": {},
     "output_type": "execute_result"
    }
   ],
   "source": [
    "#Create the mapping for Education Account Column that maps\n",
    "#\"Undergrad\" to \"1\"\n",
    "#\"Graduate\" to \"2\"\n",
    "#\"Advanced/Professional\" to \"3\"\n",
    "\n",
    "education_map = df['Education'] # Creates a variable called education_map then set variable to df['Education']\n",
    "\n",
    "#Using 'map' function in Pandas, make the changes to the 'Education' column\n",
    "\n",
    "#Create the mapping of 'Education' column individual values to represent each Education level using integers \n",
    "#To convert the existing string data types to numeric form which can be read by the computer in the Education column\n",
    "df['Education'] = education_map.map({'Undergrad' : 1, 'Graduate' : 2, 'Advanced/Professional' : 3})\n",
    "\n",
    "#Check for the resulting changes after mapping\n",
    "df['Education']"
   ]
  },
  {
   "cell_type": "code",
   "execution_count": 7,
   "id": "77c96cf8-2aa1-4639-9170-0ca258b7f970",
   "metadata": {
    "tags": []
   },
   "outputs": [
    {
     "data": {
      "text/plain": [
       "0       1\n",
       "1       1\n",
       "2       0\n",
       "3       0\n",
       "4       0\n",
       "       ..\n",
       "5995    0\n",
       "5996    0\n",
       "5997    1\n",
       "5998    0\n",
       "5999    0\n",
       "Name: Securities Account, Length: 6000, dtype: int64"
      ]
     },
     "execution_count": 7,
     "metadata": {},
     "output_type": "execute_result"
    }
   ],
   "source": [
    "#Create the mapping for Securites Account Column that maps\n",
    "#\"Yes\" to \"1\" \n",
    "#\"No\"  to \"0\"\n",
    "\n",
    "securityAccount_map = df['Securities Account'] # Creates a variable called securityAccount_map then set variable to df['Securities Account']\n",
    "\n",
    "# Using 'map' function in Pandas, make the changes to the 'Securities Account' column\n",
    "\n",
    "# Creates the mapping in the 'Securities Account' column for each value to represent whether this customers has a security Account using integers\n",
    "#To convert the existing string data types to numeric form which can be read by the computer in the Securities Account column\n",
    "df['Securities Account'] = securityAccount_map.map({'Yes': 1, 'No': 0}) \n",
    "# Check for the resulting change after mapping\n",
    "df['Securities Account']"
   ]
  },
  {
   "cell_type": "code",
   "execution_count": 8,
   "id": "db7cf6b6-aa71-4584-b567-5ccb4015c6e1",
   "metadata": {
    "tags": []
   },
   "outputs": [
    {
     "data": {
      "text/plain": [
       "0       0\n",
       "1       0\n",
       "2       0\n",
       "3       0\n",
       "4       0\n",
       "       ..\n",
       "5995    0\n",
       "5996    0\n",
       "5997    0\n",
       "5998    0\n",
       "5999    0\n",
       "Name: CD Account, Length: 6000, dtype: int64"
      ]
     },
     "execution_count": 8,
     "metadata": {},
     "output_type": "execute_result"
    }
   ],
   "source": [
    "#Create the mapping for CD Account Column that maps\n",
    "#\"Yes\" to \"1\" \n",
    "#\"No\"  to \"0\"\n",
    "\n",
    "CDAccount_map = df['CD Account'] # Creates a variable called CDAccount_map then set it to df['CD Account']\n",
    "\n",
    "# Using 'map' function in Pandas, make the changes to the 'CD Account' column\n",
    "# Creates the mapping in the 'CD Account' column to represent whether this customer has a CD Account using intergers\n",
    "# To convert the existing string data types to numeric form which can be read by the computer in the CD Account column\n",
    "df['CD Account'] = CDAccount_map.map({'Yes': 1, 'No': 0}) \n",
    "\n",
    "# Check for the resulting change after mapping\n",
    "df['CD Account']"
   ]
  },
  {
   "cell_type": "code",
   "execution_count": 9,
   "id": "351822e9-d9cf-4ae8-821c-062fc726d7fc",
   "metadata": {
    "tags": []
   },
   "outputs": [
    {
     "data": {
      "text/plain": [
       "0       0\n",
       "1       0\n",
       "2       0\n",
       "3       0\n",
       "4       0\n",
       "       ..\n",
       "5995    1\n",
       "5996    0\n",
       "5997    0\n",
       "5998    1\n",
       "5999    1\n",
       "Name: Online, Length: 6000, dtype: int64"
      ]
     },
     "execution_count": 9,
     "metadata": {},
     "output_type": "execute_result"
    }
   ],
   "source": [
    "#Create the mapping for Online Column that maps\n",
    "#\"Yes\" to \"1\" \n",
    "#\"No\"  to \"0\"\n",
    "\n",
    "Online_map = df['Online'] # Creates a variable called Online_map then set it to df['Online']\n",
    "\n",
    "# Using 'map' function in Pandas, make the changes to the 'Online' column\n",
    "\n",
    "# Creates the mapping in the 'Online' column to represent whether this customer has a used an Online services provided by the bank in integer form\n",
    "# To convert the existing string data types to numeric form which can be read by the computer in the Online column\n",
    "df['Online'] = Online_map.map({'Yes': 1, 'No': 0}) \n",
    "\n",
    "# Check for the resulting change after mapping\n",
    "df['Online']"
   ]
  },
  {
   "cell_type": "code",
   "execution_count": 10,
   "id": "70958ae9-e5ae-424e-b335-cdeca157044a",
   "metadata": {
    "tags": []
   },
   "outputs": [
    {
     "data": {
      "text/plain": [
       "0       0\n",
       "1       0\n",
       "2       0\n",
       "3       0\n",
       "4       1\n",
       "       ..\n",
       "5995    0\n",
       "5996    0\n",
       "5997    0\n",
       "5998    0\n",
       "5999    0\n",
       "Name: CreditCard, Length: 6000, dtype: int64"
      ]
     },
     "execution_count": 10,
     "metadata": {},
     "output_type": "execute_result"
    }
   ],
   "source": [
    "#Create the mapping for CreditCard Column that maps\n",
    "#\"Yes\" to \"1\" \n",
    "#\"No\"  to \"0\"\n",
    "\n",
    "CreditCard_map = df['CreditCard'] # Creates a variable called CreditCard_map then set it to df['CreditCard']\n",
    "\n",
    "# Using 'map' function in Pandas, make the changes to the 'CreditCard' column\n",
    "\n",
    "# Creates the mapping in the 'CreditCard' column to represent whether a customer uses a credit card owned by the bank\n",
    "# To To convert the existing string data types to numeric form which can be read by the computer in the CreditCard colum\n",
    "df['CreditCard'] = CreditCard_map.map({'Yes': 1, 'No': 0}) \n",
    "\n",
    "# Check for the resulting change after mapping\n",
    "df['CreditCard']"
   ]
  },
  {
   "cell_type": "code",
   "execution_count": 11,
   "id": "3f2fdceb-41f3-4e4d-95e9-45ebec866719",
   "metadata": {
    "tags": []
   },
   "outputs": [
    {
     "data": {
      "text/plain": [
       "Age                     int64\n",
       "Experience              int64\n",
       "Income                  int64\n",
       "Family                 object\n",
       "CCAvg                 float64\n",
       "Education               int64\n",
       "Mortgage                int64\n",
       "Personal Loan           int64\n",
       "Securities Account      int64\n",
       "CD Account              int64\n",
       "Online                  int64\n",
       "CreditCard              int64\n",
       "dtype: object"
      ]
     },
     "execution_count": 11,
     "metadata": {},
     "output_type": "execute_result"
    }
   ],
   "source": [
    "df.dtypes# Check the columns data type after mapping almost all the categorical columns"
   ]
  },
  {
   "cell_type": "markdown",
   "id": "845d264f-fa1c-4e07-92df-b982e1e9dfc8",
   "metadata": {},
   "source": [
    "#### Check for unique values in the 'Family' column"
   ]
  },
  {
   "cell_type": "code",
   "execution_count": 12,
   "id": "cbfe397e-c331-4681-9116-f868e3548750",
   "metadata": {
    "tags": []
   },
   "outputs": [
    {
     "data": {
      "text/plain": [
       "array(['4', '3', '1', '2', nan, '-4', '-2', '3Hx', '-1', '2x', 'x3p'],\n",
       "      dtype=object)"
      ]
     },
     "execution_count": 12,
     "metadata": {},
     "output_type": "execute_result"
    }
   ],
   "source": [
    "df['Family'].unique() # Check for all unique values in the Family column"
   ]
  },
  {
   "cell_type": "markdown",
   "id": "0a882ee8-129a-406f-8b96-490a762eda7b",
   "metadata": {
    "tags": []
   },
   "source": [
    "### Now that we know Family column has multiple unique values"
   ]
  },
  {
   "cell_type": "code",
   "execution_count": 13,
   "id": "1ecb0779-729c-4f73-b777-720821c3ae87",
   "metadata": {},
   "outputs": [],
   "source": [
    "df.dropna(inplace=True) # Remove the row with an empty cell in any column"
   ]
  },
  {
   "cell_type": "code",
   "execution_count": 14,
   "id": "56413910-16fc-4e06-9f4b-0843d94bcab1",
   "metadata": {
    "tags": []
   },
   "outputs": [
    {
     "data": {
      "text/plain": [
       "array(['4', '3', '1', '2', '-4', '-2', '3Hx', '-1', '2x', 'x3p'],\n",
       "      dtype=object)"
      ]
     },
     "execution_count": 14,
     "metadata": {},
     "output_type": "execute_result"
    }
   ],
   "source": [
    "df['Family'].unique() # Check that we have dropped the NaN rows in the 'Family' column"
   ]
  },
  {
   "cell_type": "markdown",
   "id": "121f5796-cd66-44ea-9dac-09574aecb6f2",
   "metadata": {
    "tags": []
   },
   "source": [
    "### After we have dropped the NAN data type rows, We will drop the other non-numerical rows in the Family Column"
   ]
  },
  {
   "cell_type": "code",
   "execution_count": 15,
   "id": "540de68f-0fb6-4936-a87d-b0988b912d44",
   "metadata": {
    "tags": []
   },
   "outputs": [
    {
     "data": {
      "text/plain": [
       "array(['4', '3', '1', '2'], dtype=object)"
      ]
     },
     "execution_count": 15,
     "metadata": {},
     "output_type": "execute_result"
    }
   ],
   "source": [
    "#Drops the rows which values which contain non-binary data which are the unique string and negative integer data types\n",
    "df = df[df['Family'].str.contains(\"3Hx|2x|x3p|-4|-2|-1\") == False]\n",
    "\n",
    "#Look for the remaining negative values which have not been dropped\n",
    "df['Family'].unique()"
   ]
  },
  {
   "cell_type": "markdown",
   "id": "5c839d88-e446-4a8c-bd92-f409ad1a4c9a",
   "metadata": {
    "tags": []
   },
   "source": [
    "### We would need to create a mapping of each numerical string in the array to integers"
   ]
  },
  {
   "cell_type": "code",
   "execution_count": 16,
   "id": "c789d83c-66d7-4014-bb68-321805dab18a",
   "metadata": {
    "tags": []
   },
   "outputs": [
    {
     "data": {
      "text/plain": [
       "0       4\n",
       "1       3\n",
       "2       1\n",
       "3       1\n",
       "4       4\n",
       "       ..\n",
       "5995    4\n",
       "5996    1\n",
       "5997    3\n",
       "5998    4\n",
       "5999    1\n",
       "Name: Family, Length: 5990, dtype: int64"
      ]
     },
     "execution_count": 16,
     "metadata": {},
     "output_type": "execute_result"
    }
   ],
   "source": [
    "#Create a mapping thats maps the following\n",
    "# '4' to 4\n",
    "# '3' to 3\n",
    "# '2' to 2\n",
    "# '1' to 1\n",
    "\n",
    "#Create a Family_map variable and set the value to df['Family'] which targets the Family column in the dataFrame\n",
    "Family_map = df['Family']\n",
    "\n",
    "# Using 'map' function in Pandas, make the changes to the 'Family' column\n",
    "\n",
    "# Create a mapping in the Family column to represent the number of family members in the Family column using integer\n",
    "#To convert the existing string data types to numeric form which can be read by the computer\n",
    "df['Family'] = Family_map.map({'4' : 4 , '3': 3, '2' : 2, '1' : 1}) \n",
    "\n",
    "# Check for the resulting change after mapping\n",
    "df['Family']"
   ]
  },
  {
   "cell_type": "markdown",
   "id": "f5d4e063-ec4c-4a97-9c32-9f51d731412d",
   "metadata": {
    "tags": []
   },
   "source": [
    "#### Now that the Family column values which are string and negative integer data types have been dropped from the dataframe . The remaining values are mapped to integers which makes the Family column have an integer data type"
   ]
  },
  {
   "cell_type": "markdown",
   "id": "07a1acab-0c19-4270-b613-572bd312efce",
   "metadata": {},
   "source": [
    "### Next, check whether there are null rows which have no value "
   ]
  },
  {
   "cell_type": "markdown",
   "id": "2b7c8158-ed66-4783-bd79-a7cca8f5ebbf",
   "metadata": {},
   "source": [
    "#### Null - No value rows"
   ]
  },
  {
   "cell_type": "code",
   "execution_count": 17,
   "id": "60f35693-ab38-4f35-a3e6-1eafb6d5bdcf",
   "metadata": {
    "tags": []
   },
   "outputs": [
    {
     "data": {
      "text/plain": [
       "Age                   0\n",
       "Experience            0\n",
       "Income                0\n",
       "Family                0\n",
       "CCAvg                 0\n",
       "Education             0\n",
       "Mortgage              0\n",
       "Personal Loan         0\n",
       "Securities Account    0\n",
       "CD Account            0\n",
       "Online                0\n",
       "CreditCard            0\n",
       "dtype: int64"
      ]
     },
     "execution_count": 17,
     "metadata": {},
     "output_type": "execute_result"
    }
   ],
   "source": [
    "#Check dataframe and combine all the NULL records in each column\n",
    "df.isnull().sum()"
   ]
  },
  {
   "cell_type": "markdown",
   "id": "e55c63c9-af7f-4c33-9de9-6ef3886a8d2c",
   "metadata": {},
   "source": [
    "#### Unknown - NAN records"
   ]
  },
  {
   "cell_type": "code",
   "execution_count": 18,
   "id": "11806f52-19a8-4ef8-b750-1d67ebe9a399",
   "metadata": {
    "tags": []
   },
   "outputs": [
    {
     "data": {
      "text/plain": [
       "False"
      ]
     },
     "execution_count": 18,
     "metadata": {},
     "output_type": "execute_result"
    }
   ],
   "source": [
    "#Check if there are any NAN values under the entire DataFrame\n",
    "df.isnull().values.any()"
   ]
  },
  {
   "cell_type": "markdown",
   "id": "de31f675-b56d-4b96-9e25-888b12009dbe",
   "metadata": {},
   "source": [
    "### Check for any remaining unique values"
   ]
  },
  {
   "cell_type": "code",
   "execution_count": 19,
   "id": "683825c1-4a86-4f28-a237-c276b403aea9",
   "metadata": {
    "tags": []
   },
   "outputs": [
    {
     "data": {
      "text/plain": [
       "array([25, 45, 39, 35, 37, 53, 50, 34, 65, 29, 48, 59, 67, 60, 38, 42, 46,\n",
       "       55, 56, 57, 44, 36, 43, 40, 30, 31, 51, 32, 61, 41, 28, 49, 47, 62,\n",
       "       58, 54, 33, 27, 66, 24, 52, 26, 64, 63, 23], dtype=int64)"
      ]
     },
     "execution_count": 19,
     "metadata": {},
     "output_type": "execute_result"
    }
   ],
   "source": [
    "df['Age'].unique() # Check for unique values in the 'Age' column"
   ]
  },
  {
   "cell_type": "code",
   "execution_count": 20,
   "id": "86572314-d1ab-4b68-9086-51c4cb57120e",
   "metadata": {
    "tags": []
   },
   "outputs": [
    {
     "data": {
      "text/plain": [
       "array([ 1, 19, 15,  9,  8, 13, 27, 24, 10, 39,  5, 23, 32, 41, 30, 14, 18,\n",
       "       21, 28, 31, 11, 16, 20, 35,  6, 25,  7, 12, 26, 37, 17,  2, 36, 29,\n",
       "        3, 22, -1, 34,  0, 38, 40, 33,  4, -2, 42, -3, 43], dtype=int64)"
      ]
     },
     "execution_count": 20,
     "metadata": {},
     "output_type": "execute_result"
    }
   ],
   "source": [
    "df['Experience'].unique()# Check for unique values in the 'Experience' column"
   ]
  },
  {
   "cell_type": "code",
   "execution_count": 21,
   "id": "93ed5b44-25f9-407f-859c-dff02d0da127",
   "metadata": {
    "tags": []
   },
   "outputs": [
    {
     "data": {
      "text/plain": [
       "array([ 49,  34,  11, 100,  45,  29,  72,  22,  81, 180, 105, 114,  40,\n",
       "       112, 130, 193,  21,  25,  63,  62,  43, 152,  83, 158,  48, 119,\n",
       "        35,  41,  18,  50, 121,  71, 141,  80,  84,  60, 132, 104,  52,\n",
       "       194,   8, 131, 190,  44, 139,  93, 188,  39, 125,  32,  20, 115,\n",
       "        69,  85, 135,  12, 133,  19,  82, 109,  42,  78,  51, 113, 118,\n",
       "        64, 161,  94,  15,  74,  30,  38,   9,  92,  61,  73,  70, 149,\n",
       "        98, 128,  31,  58,  54, 124, 163,  24,  79, 134,  23,  13, 138,\n",
       "       171, 168,  65,  10, 148, 159, 169, 144, 165,  59,  68,  91, 172,\n",
       "        55, 155,  53,  89,  28,  75, 170, 120,  99, 111,  33, 129, 122,\n",
       "       150, 195, 110, 101, 191, 140, 153, 173, 174,  90, 179, 145, 200,\n",
       "       183, 182,  88, 160, 205, 164,  14, 175, 103, 108, 185, 204, 154,\n",
       "       102, 192, 202, 162, 142,  95, 184, 181, 143, 123, 178, 198, 201,\n",
       "       203, 189, 151, 199, 224, 218], dtype=int64)"
      ]
     },
     "execution_count": 21,
     "metadata": {},
     "output_type": "execute_result"
    }
   ],
   "source": [
    "df['Income'].unique()  # Check for unique values in the 'Income' column"
   ]
  },
  {
   "cell_type": "code",
   "execution_count": 22,
   "id": "97adfefe-fbbb-4741-9339-102e7e33d554",
   "metadata": {
    "tags": []
   },
   "outputs": [
    {
     "data": {
      "text/plain": [
       "array([4, 3, 1, 2], dtype=int64)"
      ]
     },
     "execution_count": 22,
     "metadata": {},
     "output_type": "execute_result"
    }
   ],
   "source": [
    "df['Family'].unique() # Check for unique values in the 'Family' column"
   ]
  },
  {
   "cell_type": "code",
   "execution_count": 23,
   "id": "2ef3e969-71b0-4aee-b3cd-1805c53ab681",
   "metadata": {
    "tags": []
   },
   "outputs": [
    {
     "data": {
      "text/plain": [
       "array([ 1.6 ,  1.5 ,  1.  ,  2.7 ,  0.4 ,  0.3 ,  0.6 ,  8.9 ,  2.4 ,\n",
       "        0.1 ,  3.8 ,  2.5 ,  2.  ,  4.7 ,  8.1 ,  0.5 ,  0.9 ,  1.2 ,\n",
       "        0.7 ,  3.9 ,  0.2 ,  2.2 ,  3.3 ,  1.8 ,  2.9 ,  1.4 ,  5.  ,\n",
       "        2.3 ,  1.1 ,  5.7 ,  4.5 ,  2.1 ,  8.  ,  1.7 ,  0.  ,  2.8 ,\n",
       "        3.5 ,  4.  ,  2.6 ,  1.3 ,  5.6 ,  5.2 ,  3.  ,  4.6 ,  3.6 ,\n",
       "        7.2 ,  1.75,  7.4 ,  2.67,  7.5 ,  6.5 ,  7.8 ,  7.9 ,  4.1 ,\n",
       "        1.9 ,  4.3 ,  6.8 ,  5.1 ,  3.1 ,  0.8 ,  3.7 ,  6.2 ,  0.75,\n",
       "        2.33,  4.9 ,  0.67,  3.2 ,  5.5 ,  6.9 ,  4.33,  7.3 ,  4.2 ,\n",
       "        4.4 ,  6.1 ,  6.33,  6.6 ,  5.3 ,  3.4 ,  7.  ,  6.3 ,  8.3 ,\n",
       "        6.  ,  1.67,  8.6 ,  7.6 ,  6.4 , 10.  ,  5.9 ,  5.4 ,  8.8 ,\n",
       "        1.33,  9.  ,  6.7 ,  4.25,  6.67,  5.8 ,  4.8 ,  3.25,  5.67,\n",
       "        8.5 ,  4.75,  4.67,  3.67,  8.2 ,  3.33,  5.33,  9.3 ,  2.75])"
      ]
     },
     "execution_count": 23,
     "metadata": {},
     "output_type": "execute_result"
    }
   ],
   "source": [
    "df['CCAvg'].unique() # Check for unique values in the 'CCAvg' column"
   ]
  },
  {
   "cell_type": "code",
   "execution_count": 24,
   "id": "279f73b7-4a58-4f58-b376-b8cd9ef6cee4",
   "metadata": {
    "tags": []
   },
   "outputs": [
    {
     "data": {
      "text/plain": [
       "array([1, 2, 3], dtype=int64)"
      ]
     },
     "execution_count": 24,
     "metadata": {},
     "output_type": "execute_result"
    }
   ],
   "source": [
    "df['Education'].unique() # Check for unique values in the 'Education' column"
   ]
  },
  {
   "cell_type": "code",
   "execution_count": 25,
   "id": "4d27ba93-eeaf-4ad1-bc5b-dc1c1e970d79",
   "metadata": {
    "tags": []
   },
   "outputs": [
    {
     "data": {
      "text/plain": [
       "array([  0, 155, 104, 134, 111, 260, 163, 159,  97, 122, 193, 198, 285,\n",
       "       412, 153, 211, 207, 240, 455, 112, 336, 132, 118, 174, 126, 236,\n",
       "       166, 136, 309, 103, 366, 101, 251, 276, 161, 149, 188, 116, 135,\n",
       "       244, 164,  81, 315, 140,  95,  89,  90, 105, 100, 282, 209, 249,\n",
       "        91,  98, 145, 150, 169, 280,  99,  78, 264, 113, 117, 325, 121,\n",
       "       138,  77, 158, 109, 131, 391,  88, 129, 196, 617, 123, 167, 190,\n",
       "       248,  82, 402, 360, 392, 185, 419, 270, 148, 466, 175, 147, 220,\n",
       "       133, 182, 290, 125, 124, 224, 141, 119, 139, 115, 458, 172, 156,\n",
       "       547, 470, 304, 221, 108, 179, 271, 378, 176,  76, 314,  87, 203,\n",
       "       180, 230, 137, 152, 485, 300, 272, 144,  94, 208, 275,  83, 218,\n",
       "       327, 322, 205, 227, 239,  85, 160, 364, 449,  75, 107,  92, 187,\n",
       "       355, 106, 587, 214, 307, 263, 310, 127, 252, 170, 265, 177, 305,\n",
       "       372,  79, 301, 232, 289, 212, 250,  84, 130, 303, 256, 259, 204,\n",
       "       524, 157, 231, 287, 247, 333, 229, 357, 361, 294,  86, 329, 142,\n",
       "       184, 442, 233, 215, 394, 475, 197, 228, 297, 128, 241, 437, 178,\n",
       "       428, 162, 234, 257, 219, 337, 382, 397, 181, 120, 380, 200, 433,\n",
       "       222, 483, 154, 171, 146, 110, 201, 277, 268, 237, 102,  93, 354,\n",
       "       195, 194, 238, 226, 318, 342, 266, 114, 245, 341, 421, 359, 565,\n",
       "       319, 151, 267, 601, 567, 352, 284, 199,  80, 334, 389, 186, 246,\n",
       "       589, 242, 143, 323, 535, 293, 398, 343, 255, 311, 446, 223, 262,\n",
       "       422, 192, 217, 168, 299, 505, 400, 165, 183, 326, 298, 569, 374,\n",
       "       216, 191, 408, 406, 452, 432, 312, 477, 396, 582, 358, 213, 467,\n",
       "       331, 295, 235, 635, 385, 328, 522, 496, 415, 461, 344, 206, 368,\n",
       "       321, 296, 373, 292, 383, 427, 189, 202,  96, 429, 431, 286, 508,\n",
       "       210, 416, 553, 403, 225, 500, 313, 410, 273, 381, 330, 345, 253,\n",
       "       258, 351, 353, 308, 278, 464, 509, 243, 173, 481, 281, 306, 577,\n",
       "       302, 405, 571, 581, 550, 283, 612, 590, 541], dtype=int64)"
      ]
     },
     "execution_count": 25,
     "metadata": {},
     "output_type": "execute_result"
    }
   ],
   "source": [
    "df['Mortgage'].unique() # Check for unique values in the 'Mortgage' column"
   ]
  },
  {
   "cell_type": "code",
   "execution_count": 26,
   "id": "c349d3a6-4135-46c5-8ccf-9e4c90a678f1",
   "metadata": {
    "tags": []
   },
   "outputs": [
    {
     "data": {
      "text/plain": [
       "array([0, 1], dtype=int64)"
      ]
     },
     "execution_count": 26,
     "metadata": {},
     "output_type": "execute_result"
    }
   ],
   "source": [
    "df['Personal Loan'].unique() # Check for unique values in the 'Personal Loan' column"
   ]
  },
  {
   "cell_type": "code",
   "execution_count": 27,
   "id": "c5b9da9f-48cb-4971-a20e-362280245b9c",
   "metadata": {
    "tags": []
   },
   "outputs": [
    {
     "data": {
      "text/plain": [
       "array([1, 0], dtype=int64)"
      ]
     },
     "execution_count": 27,
     "metadata": {},
     "output_type": "execute_result"
    }
   ],
   "source": [
    "df['Securities Account'].unique() # Check for unique values in the 'Securities Account' column"
   ]
  },
  {
   "cell_type": "code",
   "execution_count": 28,
   "id": "cebeee04-bfe6-46e5-809d-765daea81e6e",
   "metadata": {
    "tags": []
   },
   "outputs": [
    {
     "data": {
      "text/plain": [
       "array([0, 1], dtype=int64)"
      ]
     },
     "execution_count": 28,
     "metadata": {},
     "output_type": "execute_result"
    }
   ],
   "source": [
    "df['CD Account'].unique()# Check for unique values in the 'CD Account' column"
   ]
  },
  {
   "cell_type": "code",
   "execution_count": 29,
   "id": "1992fb8d-f211-45ef-a663-745600da0816",
   "metadata": {
    "tags": []
   },
   "outputs": [
    {
     "data": {
      "text/plain": [
       "array([0, 1], dtype=int64)"
      ]
     },
     "execution_count": 29,
     "metadata": {},
     "output_type": "execute_result"
    }
   ],
   "source": [
    "df['Online'].unique()# Check for unique values in the 'Online' column"
   ]
  },
  {
   "cell_type": "code",
   "execution_count": 30,
   "id": "492e580b-e738-4b4b-8d6b-cbffb4a6e753",
   "metadata": {
    "tags": []
   },
   "outputs": [
    {
     "data": {
      "text/plain": [
       "array([0, 1], dtype=int64)"
      ]
     },
     "execution_count": 30,
     "metadata": {},
     "output_type": "execute_result"
    }
   ],
   "source": [
    "df['CreditCard'].unique()# Check for unique values in the 'CreditCard' column"
   ]
  },
  {
   "cell_type": "markdown",
   "id": "478fd383-fa75-4c49-ae75-c663e37fb55d",
   "metadata": {},
   "source": [
    "#### Remove the negative integer values found in the 'Experience' column"
   ]
  },
  {
   "cell_type": "code",
   "execution_count": 31,
   "id": "9156c104-3ad7-4290-9c48-9820e3d2c1eb",
   "metadata": {
    "tags": []
   },
   "outputs": [
    {
     "data": {
      "text/plain": [
       "array([ 1, 19, 15,  9,  8, 13, 27, 24, 10, 39,  5, 23, 32, 41, 30, 14, 18,\n",
       "       21, 28, 31, 11, 16, 20, 35,  6, 25,  7, 12, 26, 37, 17,  2, 36, 29,\n",
       "        3, 22, 34,  0, 38, 40, 33,  4, 42, 43], dtype=int64)"
      ]
     },
     "execution_count": 31,
     "metadata": {},
     "output_type": "execute_result"
    }
   ],
   "source": [
    "### Create a variable for each negative value that we want to remove from the 'Experience' column\n",
    "\n",
    "\n",
    "## Creates a FirstNegativeindex variable to store all the rows in the dataFrame column of\n",
    "###Experience which has a negative value of -1 by retreving all rows with value of -1 from the dataFrame\n",
    "FirstNegativeindex = df[df['Experience'] == -1 ].index\n",
    "\n",
    "##Drops all rows in the Experience column which has a value of -1\n",
    "df.drop(FirstNegativeindex , inplace=True)\n",
    "\n",
    "\n",
    "## Creates a SecondNegativeindex variable to store all the rows in the dataFrame column of\n",
    "###Experience which has a negative value of -2 by retreving all rows with value of -2 from the dataFrame\n",
    "SecondNegativeIndex = df[df['Experience'] == -2 ].index\n",
    "\n",
    "##Drops all rows in the Experience column which has a value of -2\n",
    "df.drop(SecondNegativeIndex , inplace=True)\n",
    "\n",
    "## Creates a ThirdNegativeindex variable to store all the rows in the dataFrame column of\n",
    "###Experience which has a negative value of -3 by retreving all rows with value of -3 from the dataFrame\n",
    "ThirdNegativeIndex = df[df['Experience'] == -3 ].index\n",
    "\n",
    "##Drops all rows in the Experience column which has a value of -3\n",
    "df.drop(ThirdNegativeIndex , inplace=True)\n",
    "\n",
    "\n",
    "## Check all unique values in the Experience column to ensure that we have dropped all the negative\n",
    "### values that previously existed in the dataFrame\n",
    "df['Experience'].unique()"
   ]
  },
  {
   "cell_type": "markdown",
   "id": "d1c62d2f-5c9f-4cd3-94d5-dcc72b1b4dd9",
   "metadata": {},
   "source": [
    "## Step 5: *Display all columns and check if there are any columns to correct"
   ]
  },
  {
   "cell_type": "code",
   "execution_count": 32,
   "id": "41d3e3b8-eb89-4aee-8a9b-8e9f8e31d7b3",
   "metadata": {
    "tags": []
   },
   "outputs": [
    {
     "name": "stdout",
     "output_type": "stream",
     "text": [
      "Data Types:\n",
      "Age                     int64\n",
      "Experience              int64\n",
      "Income                  int64\n",
      "Family                  int64\n",
      "CCAvg                 float64\n",
      "Education               int64\n",
      "Mortgage                int64\n",
      "Personal Loan           int64\n",
      "Securities Account      int64\n",
      "CD Account              int64\n",
      "Online                  int64\n",
      "CreditCard              int64\n",
      "dtype: object\n",
      "\n",
      "\n",
      "Check if there are remaining columns with NULL values\n",
      "Age                   0\n",
      "Experience            0\n",
      "Income                0\n",
      "Family                0\n",
      "CCAvg                 0\n",
      "Education             0\n",
      "Mortgage              0\n",
      "Personal Loan         0\n",
      "Securities Account    0\n",
      "CD Account            0\n",
      "Online                0\n",
      "CreditCard            0\n",
      "dtype: int64\n",
      "\n",
      "\n",
      "Check if there are remaining rows with NAN values\n",
      "False\n",
      "\n",
      "\n",
      "Rows Left: 5938\n",
      "Columns Left: 12\n"
     ]
    }
   ],
   "source": [
    "#Checks if there are any other columns to correct:\n",
    "print(\"Data Types:\")\n",
    "print(df.dtypes)\n",
    "print('\\n')\n",
    "print('Check if there are remaining columns with NULL values')\n",
    "print(df.isnull().sum())\n",
    "print('\\n')\n",
    "print('Check if there are remaining rows with NAN values')\n",
    "print(df.isnull().values.any())\n",
    "print('\\n')\n",
    "print('Rows Left: ' + str(df.shape[0]) + '\\nColumns Left: ' + str(df.shape[1]))"
   ]
  },
  {
   "cell_type": "markdown",
   "id": "0975cd1e-4531-4ddf-b77c-042b45ee1249",
   "metadata": {},
   "source": [
    "## Saving the cleaned up CSV file "
   ]
  },
  {
   "cell_type": "code",
   "execution_count": 33,
   "id": "fa6910ec-b3c6-4dbe-9cbf-342d0108f700",
   "metadata": {
    "tags": []
   },
   "outputs": [],
   "source": [
    "# Using to_csv function to save the cleaned up dataframe.\n",
    "# index=False parameter prevents the creation of an extra RangeIndex column from being created.\n",
    "\n",
    "df.to_csv('Bank_Personal_Loan_clean.csv', index = False)"
   ]
  },
  {
   "cell_type": "markdown",
   "id": "185276e6-df7a-446c-a174-fea07b235c51",
   "metadata": {},
   "source": [
    "## Step 6: Create, Train , Test and Evaluate our AI Models"
   ]
  },
  {
   "cell_type": "markdown",
   "id": "be0804fd-bcc7-4395-9678-bf1b0229588b",
   "metadata": {
    "tags": []
   },
   "source": [
    "We will create our AI model . The identified Target column is  \"Personal Loan\" , and the other columns are our Features.\n",
    "\n",
    "So we will split the columns up into their individual components.\n",
    "\n",
    "Let us call Features **X** , Target **y**."
   ]
  },
  {
   "cell_type": "code",
   "execution_count": 34,
   "id": "487595a1-ee8d-4529-b43b-f34d0752f6eb",
   "metadata": {
    "tags": []
   },
   "outputs": [],
   "source": [
    "#Create 2 new dataframes, X for Features and y for Target\n",
    "X = df.drop(['Personal Loan'], axis = 1) # Create the Features dataframe by dropping the target 'Personal Loan' column\n",
    "y = df.get(['Personal Loan'])# Create the Target dataframe by only retrieving the target 'Personal loan' column"
   ]
  },
  {
   "cell_type": "markdown",
   "id": "aa01e867-0695-4de7-abd5-1f3e09fffbc2",
   "metadata": {},
   "source": [
    "We will do both Models to find which one will give us better results"
   ]
  },
  {
   "cell_type": "code",
   "execution_count": 35,
   "id": "292caf53-5998-48ad-a049-e9f538667b56",
   "metadata": {
    "tags": []
   },
   "outputs": [],
   "source": [
    "# Creating the Decision Tree Classifier Model\n",
    "dtModel = DecisionTreeClassifier()\n",
    "\n",
    "# Creating the K-Nearest Neighbour Model\n",
    "knnModel = KNeighborsClassifier()"
   ]
  },
  {
   "cell_type": "markdown",
   "id": "b8ec11c8-887d-43cf-901f-86ff03846e9b",
   "metadata": {},
   "source": [
    "Split the data into training and test data."
   ]
  },
  {
   "cell_type": "code",
   "execution_count": 36,
   "id": "d63d85f7-6468-4fc9-bb06-8a6e4494a34d",
   "metadata": {
    "tags": []
   },
   "outputs": [
    {
     "name": "stdout",
     "output_type": "stream",
     "text": [
      "'DF' Original DataFrame(Feature + Target Combined):\n",
      "Rows5938\n",
      "Columns12\n",
      "\n",
      "\n",
      "'X' Features(Before Training and Test Data Split):\n",
      "Rows5938\n",
      "Columns11\n",
      "\n",
      "\n",
      "'y' Target (Before Training and Test Data Split):\n",
      "Rows: 5938\n",
      "Columns: 1\n",
      "\n",
      "\n",
      "'X_train' Features (training set - 80%)\n",
      "Rows: 4750\n",
      "Columns: 11\n",
      "\n",
      "\n",
      "'y_train' Target (training set - 80%)\n",
      "Rows: 4750\n",
      "Columns: 1\n",
      "\n",
      "\n",
      "'X_test' Features (test set - 20%)\n",
      "Rows: 1188\n",
      "Columns: 11\n",
      "\n",
      "\n",
      "'y_test' Target (test set - 20%)\n",
      "Rows: 1188\n",
      "Columns: 1\n"
     ]
    }
   ],
   "source": [
    "#Decide on a good split between Training Data and Test Data.\n",
    "#For this case we will use 70% of the data for training and 20% for testing.\n",
    "\n",
    "X_train, X_test, y_train, y_test = tts(X,y, test_size = 0.2)\n",
    "\n",
    "# X_train and y_train contains the features and target data for training set (80%),\n",
    "# X_test and y_test contains the features and target data for test set(20%)\n",
    "\n",
    "#The code below displays how the data was split:\n",
    "\n",
    "print('\\'DF\\' Original DataFrame(Feature + Target Combined):') # Display the Original DataFrame which excludes the dropped columns\n",
    "print('Rows' + str(df.shape[0]) + '\\nColumns' + str(df.shape[1])) # Display the number of rows and the number of columns in the DataFrame\n",
    "print('\\n') #Create a empty new line \n",
    "\n",
    "print('\\'X\\' Features(Before Training and Test Data Split):') #Display the Features column before splitting the data\n",
    "print('Rows' + str(X.shape[0]) + '\\nColumns' + str(X.shape[1])) # Display the number of rows and the number of columns in the DataFrame by retreiving the rows and columns of Features Column \n",
    "print('\\n') #Create a empty new line\n",
    "\n",
    "print('\\'y\\' Target (Before Training and Test Data Split):') #Display the Target column before splittng the data\n",
    "print('Rows: ' + str(y.shape[0]) + '\\nColumns: 1') # Display the number of rows and the number of columns in the DataFrame  by retreving the rows and columns of Target column\n",
    "print('\\n') #Create a empty new line\n",
    "\n",
    "print('\\'X_train\\' Features (training set - 80%)') #Display the Features column after splitting the data for training set which is 80% of the data\n",
    "print('Rows: ' + str(X_train.shape[0]) + '\\nColumns: ' + str(X_train.shape[1])) # Display the number of rows and columns in the DataFrame by retreving the trained rows and columns for the Features column\n",
    "print('\\n')#Create a empty new line\n",
    "\n",
    "print('\\'y_train\\' Target (training set - 80%)')#Display the Target column after splitting the data for training set which is 80% of the data\n",
    "print('Rows: ' + str(y_train.shape[0]) + '\\nColumns: 1')# Display the number of rows and the number of columns in the DataFrame by retreving the trained rows and columns for the Target column  \n",
    "print('\\n')#Create a empty new line\n",
    "\n",
    "print('\\'X_test\\' Features (test set - 20%)')#Display the Features column for the test data which 20% of the data\n",
    "print('Rows: ' + str(X_test.shape[0]) + '\\nColumns: ' + str(X_test.shape[1])) #Display the number of rows and columns in the DataFrame by retreiving the test rows and columns for the Features column\n",
    "print('\\n')#Create a empty new line\n",
    "\n",
    "print('\\'y_test\\' Target (test set - 20%)')#Display the Target column for the test data which is 20% of the data\n",
    "print('Rows: ' + str(y_test.shape[0]) + '\\nColumns: 1')#Display the number of rows and columns in the DataFrame by retreving the test rows and columns for the Target column"
   ]
  },
  {
   "cell_type": "markdown",
   "id": "2a9d09ac-4b8e-4186-a3fe-26f10f7f17a4",
   "metadata": {},
   "source": [
    "Train the Models created earlier by feeding them the training data we set up earlier."
   ]
  },
  {
   "cell_type": "code",
   "execution_count": 37,
   "id": "f123c2b9-9e4e-4224-945d-c41254394acc",
   "metadata": {
    "tags": []
   },
   "outputs": [
    {
     "name": "stderr",
     "output_type": "stream",
     "text": [
      "C:\\Users\\Mojol\\AppData\\Local\\Programs\\Python\\Python311\\Lib\\site-packages\\sklearn\\neighbors\\_classification.py:215: DataConversionWarning: A column-vector y was passed when a 1d array was expected. Please change the shape of y to (n_samples,), for example using ravel().\n",
      "  return self._fit(X, y)\n"
     ]
    },
    {
     "data": {
      "text/html": [
       "<style>#sk-container-id-1 {color: black;background-color: white;}#sk-container-id-1 pre{padding: 0;}#sk-container-id-1 div.sk-toggleable {background-color: white;}#sk-container-id-1 label.sk-toggleable__label {cursor: pointer;display: block;width: 100%;margin-bottom: 0;padding: 0.3em;box-sizing: border-box;text-align: center;}#sk-container-id-1 label.sk-toggleable__label-arrow:before {content: \"▸\";float: left;margin-right: 0.25em;color: #696969;}#sk-container-id-1 label.sk-toggleable__label-arrow:hover:before {color: black;}#sk-container-id-1 div.sk-estimator:hover label.sk-toggleable__label-arrow:before {color: black;}#sk-container-id-1 div.sk-toggleable__content {max-height: 0;max-width: 0;overflow: hidden;text-align: left;background-color: #f0f8ff;}#sk-container-id-1 div.sk-toggleable__content pre {margin: 0.2em;color: black;border-radius: 0.25em;background-color: #f0f8ff;}#sk-container-id-1 input.sk-toggleable__control:checked~div.sk-toggleable__content {max-height: 200px;max-width: 100%;overflow: auto;}#sk-container-id-1 input.sk-toggleable__control:checked~label.sk-toggleable__label-arrow:before {content: \"▾\";}#sk-container-id-1 div.sk-estimator input.sk-toggleable__control:checked~label.sk-toggleable__label {background-color: #d4ebff;}#sk-container-id-1 div.sk-label input.sk-toggleable__control:checked~label.sk-toggleable__label {background-color: #d4ebff;}#sk-container-id-1 input.sk-hidden--visually {border: 0;clip: rect(1px 1px 1px 1px);clip: rect(1px, 1px, 1px, 1px);height: 1px;margin: -1px;overflow: hidden;padding: 0;position: absolute;width: 1px;}#sk-container-id-1 div.sk-estimator {font-family: monospace;background-color: #f0f8ff;border: 1px dotted black;border-radius: 0.25em;box-sizing: border-box;margin-bottom: 0.5em;}#sk-container-id-1 div.sk-estimator:hover {background-color: #d4ebff;}#sk-container-id-1 div.sk-parallel-item::after {content: \"\";width: 100%;border-bottom: 1px solid gray;flex-grow: 1;}#sk-container-id-1 div.sk-label:hover label.sk-toggleable__label {background-color: #d4ebff;}#sk-container-id-1 div.sk-serial::before {content: \"\";position: absolute;border-left: 1px solid gray;box-sizing: border-box;top: 0;bottom: 0;left: 50%;z-index: 0;}#sk-container-id-1 div.sk-serial {display: flex;flex-direction: column;align-items: center;background-color: white;padding-right: 0.2em;padding-left: 0.2em;position: relative;}#sk-container-id-1 div.sk-item {position: relative;z-index: 1;}#sk-container-id-1 div.sk-parallel {display: flex;align-items: stretch;justify-content: center;background-color: white;position: relative;}#sk-container-id-1 div.sk-item::before, #sk-container-id-1 div.sk-parallel-item::before {content: \"\";position: absolute;border-left: 1px solid gray;box-sizing: border-box;top: 0;bottom: 0;left: 50%;z-index: -1;}#sk-container-id-1 div.sk-parallel-item {display: flex;flex-direction: column;z-index: 1;position: relative;background-color: white;}#sk-container-id-1 div.sk-parallel-item:first-child::after {align-self: flex-end;width: 50%;}#sk-container-id-1 div.sk-parallel-item:last-child::after {align-self: flex-start;width: 50%;}#sk-container-id-1 div.sk-parallel-item:only-child::after {width: 0;}#sk-container-id-1 div.sk-dashed-wrapped {border: 1px dashed gray;margin: 0 0.4em 0.5em 0.4em;box-sizing: border-box;padding-bottom: 0.4em;background-color: white;}#sk-container-id-1 div.sk-label label {font-family: monospace;font-weight: bold;display: inline-block;line-height: 1.2em;}#sk-container-id-1 div.sk-label-container {text-align: center;}#sk-container-id-1 div.sk-container {/* jupyter's `normalize.less` sets `[hidden] { display: none; }` but bootstrap.min.css set `[hidden] { display: none !important; }` so we also need the `!important` here to be able to override the default hidden behavior on the sphinx rendered scikit-learn.org. See: https://github.com/scikit-learn/scikit-learn/issues/21755 */display: inline-block !important;position: relative;}#sk-container-id-1 div.sk-text-repr-fallback {display: none;}</style><div id=\"sk-container-id-1\" class=\"sk-top-container\"><div class=\"sk-text-repr-fallback\"><pre>KNeighborsClassifier()</pre><b>In a Jupyter environment, please rerun this cell to show the HTML representation or trust the notebook. <br />On GitHub, the HTML representation is unable to render, please try loading this page with nbviewer.org.</b></div><div class=\"sk-container\" hidden><div class=\"sk-item\"><div class=\"sk-estimator sk-toggleable\"><input class=\"sk-toggleable__control sk-hidden--visually\" id=\"sk-estimator-id-1\" type=\"checkbox\" checked><label for=\"sk-estimator-id-1\" class=\"sk-toggleable__label sk-toggleable__label-arrow\">KNeighborsClassifier</label><div class=\"sk-toggleable__content\"><pre>KNeighborsClassifier()</pre></div></div></div></div></div>"
      ],
      "text/plain": [
       "KNeighborsClassifier()"
      ]
     },
     "execution_count": 37,
     "metadata": {},
     "output_type": "execute_result"
    }
   ],
   "source": [
    "# Training the Decision Tree model with the training data\n",
    "dtModel.fit(X_train,y_train)\n",
    "# Training the K-Nearest Neighbor model with the training data\n",
    "knnModel.fit(X_train,y_train)"
   ]
  },
  {
   "cell_type": "markdown",
   "id": "56191304-277e-43d1-8e3f-6c186ff921ec",
   "metadata": {},
   "source": [
    "Make a prediction using each model"
   ]
  },
  {
   "cell_type": "code",
   "execution_count": 38,
   "id": "643baf24-7573-4eff-bdcc-a3d17f678503",
   "metadata": {
    "tags": []
   },
   "outputs": [],
   "source": [
    "#Create a variable called dtPrediction and set it's value to dtModel.predict(X_test) which predicts the features columns\n",
    "dtPrediction = dtModel.predict(X_test) \n",
    "#Create a variable called knnPrediction and set it's value to knnModel.predict(X_test) which predicts the features column\n",
    "knnPrediction = knnModel.predict(X_test)"
   ]
  },
  {
   "cell_type": "markdown",
   "id": "f0e5bf02-e8cb-4a4a-9b9f-3d907a5389e7",
   "metadata": {},
   "source": [
    "### Using recall, precision to check the scores"
   ]
  },
  {
   "cell_type": "code",
   "execution_count": 39,
   "id": "f99a8335-bf73-4b25-ad4d-eb0814454544",
   "metadata": {},
   "outputs": [
    {
     "name": "stdout",
     "output_type": "stream",
     "text": [
      "Decision Tree Scores\n",
      "Recall:  0.9932659932659933\n",
      "Precision:  0.9934455667789002\n",
      "\n",
      "\n",
      "K-Nearest Neighbor Scores\n",
      "Recall:  0.8880471380471381\n",
      "Precision:  0.8899226626274878\n"
     ]
    }
   ],
   "source": [
    "# Calculate the evaluation metrics for the Decision Tree Model\n",
    "\n",
    "# Caculate Recall Score\n",
    "dtRecall = recall_score(y_test, dtPrediction, average='weighted') \n",
    "\n",
    "# Calculate Precision Score\n",
    "dtPrecision = precision_score(y_test, dtPrediction, average = 'weighted')\n",
    "\n",
    "# Calculate the evaluation metrics for K-Nearest Neighbor Model\n",
    "\n",
    "# Caculate Recall Score\n",
    "knnRecall = recall_score(y_test, knnPrediction, average='weighted')\n",
    "\n",
    "# Caculate Precision Score \n",
    "knnPrecision = precision_score(y_test, knnPrediction, average = 'weighted')\n",
    "\n",
    "#Displays the score for the Decision Tree Model and K-Nearest Neighbor evaluation metrics\n",
    "print('Decision Tree Scores')\n",
    "print('Recall: ', dtRecall)\n",
    "print('Precision: ', dtPrecision)\n",
    "\n",
    "# Create a new line between the Models Scores\n",
    "print('\\n')\n",
    "print('K-Nearest Neighbor Scores')\n",
    "print('Recall: ', knnRecall)\n",
    "print('Precision: ', knnPrecision)"
   ]
  },
  {
   "cell_type": "markdown",
   "id": "e663816c-8986-457f-b9ad-c4d356744ddc",
   "metadata": {},
   "source": [
    "### Generating Confusion Matrix to demonstrate results"
   ]
  },
  {
   "cell_type": "code",
   "execution_count": 40,
   "id": "40d9fcf8-101c-49a5-bac4-68254d9fe9c0",
   "metadata": {
    "tags": []
   },
   "outputs": [
    {
     "name": "stdout",
     "output_type": "stream",
     "text": [
      "[[888   8]\n",
      " [  0 292]]\n",
      "\n",
      "\n",
      "[[823  73]\n",
      " [ 60 232]]\n"
     ]
    }
   ],
   "source": [
    "# Generate the Decision Tree Confusion Matrix results\n",
    "dtCMatrix = confusion_matrix(y_test, dtPrediction)\n",
    "# Generate the K-Nearest Neighbor Confusion Matrix results\n",
    "knnCMatrix = confusion_matrix(y_test, knnPrediction)\n",
    "\n",
    "# Display the Decision Tree Confusion Matrix results\n",
    "print(dtCMatrix)\n",
    "# Create a new line between the Models results\n",
    "print('\\n')\n",
    "# Display the K-Nearest Neighbor Confusion Matrix results\n",
    "print(knnCMatrix)"
   ]
  },
  {
   "cell_type": "markdown",
   "id": "f603c8fa-44e7-4e6e-9fdb-4f59bbb054aa",
   "metadata": {},
   "source": [
    "### Make use of matplotlib and seaborn for rendering graphical Matrix"
   ]
  },
  {
   "cell_type": "code",
   "execution_count": 41,
   "id": "e5d0fe76-37a7-4128-a85b-5d7c2e01385c",
   "metadata": {},
   "outputs": [
    {
     "data": {
      "text/plain": [
       "Text(0.5, 14.722222222222216, 'Prediction (DT)')"
      ]
     },
     "execution_count": 41,
     "metadata": {},
     "output_type": "execute_result"
    },
    {
     "data": {
      "image/png": "[encoded data removed]",
      "text/plain": [
       "<Figure size 600x400 with 2 Axes>"
      ]
     },
     "metadata": {},
     "output_type": "display_data"
    }
   ],
   "source": [
    "# Create a variable called dtLabels and set it's value to a numpy array\n",
    "dtLabels = np.array(\n",
    "    [\n",
    "  #Formats {0:0.0f} as item and {0:0.2%} as a graph with sum of all values\n",
    "  [\"{0:0.0f}\".format(item) + \"\\n{0:0.2%}\".format(item / dtCMatrix.flatten().sum())]\n",
    "    #Creates a for loop which loops through each item in Decision Tree Confusion Matrix graph\n",
    "    for item in dtCMatrix.flatten()\n",
    "    ]    \n",
    ").reshape(2,2) # Converts the Decision Tree Confusion Matrix into a graph with 2 columns and 2 rows\n",
    "\n",
    "#Create a 6 by 4 inch figure\n",
    "plt.figure(figsize=(6,4))\n",
    "#Plots data as color-encoded matrix\n",
    "sns.heatmap(dtCMatrix, annot = dtLabels, fmt=\"\")\n",
    "#Create the column label called \"Reality (DT)\" for Decision Tree Model\n",
    "plt.ylabel(\"Reality (DT)\")\n",
    "#Create the row label called \"Prediction (DT)\" for Decision Tree Model\n",
    "plt.xlabel(\"Prediction (DT)\")"
   ]
  },
  {
   "cell_type": "code",
   "execution_count": 42,
   "id": "6ac60283-e894-4bc4-a1e0-0e3cc0f3d054",
   "metadata": {
    "tags": []
   },
   "outputs": [
    {
     "data": {
      "text/plain": [
       "Text(0.5, 14.722222222222216, 'Prediction (KNN)')"
      ]
     },
     "execution_count": 42,
     "metadata": {},
     "output_type": "execute_result"
    },
    {
     "data": {
      "image/png": "[encoded data removed]",
      "text/plain": [
       "<Figure size 600x400 with 2 Axes>"
      ]
     },
     "metadata": {},
     "output_type": "display_data"
    }
   ],
   "source": [
    "# Create a variable called knnLabels and set it's value to a numpy array\n",
    "knnLabels = np.array(\n",
    "    [\n",
    "  #Formats {0:0.0f} as item and {0:0.2%} as a graph with sum of all values\n",
    "  [\"{0:0.0f}\".format(item) + \"\\n{0:0.2%}\".format(item / knnCMatrix.flatten().sum())]\n",
    "    #Creates a for loop which loops through each item in K-Nearest Neighbor Confusion Matrix graph\n",
    "    for item in knnCMatrix.flatten()\n",
    "    ]    \n",
    ").reshape(2,2) # Converts the K-Nearest Neighbor Confusion Matrix into a graph with 2 columns and 2 rows\n",
    "\n",
    "#Create a 6 by 4 inch figure\n",
    "plt.figure(figsize=(6,4))\n",
    "#Plots data as color-encoded matrix\n",
    "sns.heatmap(knnCMatrix, annot = knnLabels, fmt=\"\")\n",
    "#Create the column label called \"Reality (KNN)\" for K-Nearest Neighbor Model\n",
    "plt.ylabel(\"Reality (KNN)\")\n",
    "#Create the row label called \"Prediction (KNN)\" for K-Nearest Neighbore Model\n",
    "plt.xlabel(\"Prediction (KNN)\")"
   ]
  },
  {
   "cell_type": "markdown",
   "id": "d3507876-0669-4558-9c87-db7b158a1ded",
   "metadata": {},
   "source": [
    "### The most suitable determined model"
   ]
  },
  {
   "cell_type": "markdown",
   "id": "c1a7558b-9c43-4191-8cb5-891fd4922f88",
   "metadata": {
    "tags": []
   },
   "source": [
    "#### The most suitable model is the Decision Tree Classifier algorithm .  \n",
    "\n",
    "#### Firstly, it has a higher true positive prediction. \n",
    "\n",
    "#### With a higher True Positive prediction compared to the K-Nearest Neighbor , we are able to identify more possible customers who will remain or convert to personal loan customers which is useful when looking at who are the likely personal loan customers. \n",
    "\n",
    "#### Secondly, it has lower False Positive and lower False Negative predictions.\n",
    "\n",
    "#### With a lower False Positive and False Negative prediction means that the algorithm can split the information between True Negative and True Positive predictions more accurately to identify who are the current liability customers against the likely personal loan customers, which is useful in the long-term conversion of liability customers to personal loan customers."
   ]
  },
  {
   "cell_type": "code",
   "execution_count": null,
   "id": "535a44e8-4c10-401e-9b09-8ffa4a00c78f",
   "metadata": {},
   "outputs": [],
   "source": []
  }
 ],
 "metadata": {
  "kernelspec": {
   "display_name": "Python 3 (ipykernel)",
   "language": "python",
   "name": "python3"
  },
  "language_info": {
   "codemirror_mode": {
    "name": "ipython",
    "version": 3
   },
   "file_extension": ".py",
   "mimetype": "text/x-python",
   "name": "python",
   "nbconvert_exporter": "python",
   "pygments_lexer": "ipython3",
   "version": "3.11.3"
  }
 },
 "nbformat": 4,
 "nbformat_minor": 5
}
